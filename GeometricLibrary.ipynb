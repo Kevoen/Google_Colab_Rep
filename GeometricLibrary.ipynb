{
  "nbformat": 4,
  "nbformat_minor": 0,
  "metadata": {
    "colab": {
      "name": "GeometricLibrary.ipynb",
      "provenance": [],
      "collapsed_sections": [],
      "authorship_tag": "ABX9TyN8lJR7Dl6bU4bCgDEWny4r",
      "include_colab_link": true
    },
    "kernelspec": {
      "name": "python3",
      "display_name": "Python 3"
    }
  },
  "cells": [
    {
      "cell_type": "markdown",
      "metadata": {
        "id": "view-in-github",
        "colab_type": "text"
      },
      "source": [
        "<a href=\"https://colab.research.google.com/github/Kevoen/Google_Colab_Rep/blob/master/GeometricLibrary.ipynb\" target=\"_parent\"><img src=\"https://colab.research.google.com/assets/colab-badge.svg\" alt=\"Open In Colab\"/></a>"
      ]
    },
    {
      "cell_type": "markdown",
      "metadata": {
        "id": "n-ko74c7o0lm",
        "colab_type": "text"
      },
      "source": [
        "## 安装数据库pytorch-geometric工具库"
      ]
    },
    {
      "cell_type": "code",
      "metadata": {
        "id": "rgG0nVh5oU5T",
        "colab_type": "code",
        "colab": {
          "base_uri": "https://localhost:8080/",
          "height": 34
        },
        "outputId": "162ff648-ba20-40ab-9dc9-eda84a1d62ea"
      },
      "source": [
        "# Install required packages.\n",
        "!pip install -q torch-scatter==latest+cu101 -f https://pytorch-geometric.com/whl/torch-1.6.0.html\n",
        "!pip install -q torch-sparse==latest+cu101 -f https://pytorch-geometric.com/whl/torch-1.6.0.html\n",
        "!pip install -q git+https://github.com/rusty1s/pytorch_geometric.git"
      ],
      "execution_count": 13,
      "outputs": [
        {
          "output_type": "stream",
          "text": [
            "  Building wheel for torch-geometric (setup.py) ... \u001b[?25l\u001b[?25hdone\n"
          ],
          "name": "stdout"
        }
      ]
    },
    {
      "cell_type": "markdown",
      "metadata": {
        "id": "bkhhg-ZouDdw",
        "colab_type": "text"
      },
      "source": [
        "![](https://miro.medium.com/max/700/1*WbZ6BvixcLI0t6Zz3E4EIw.png)\n",
        "<br>So there are 4 nodes in the graph, v1 … v4, each of which is associated with a 2-dimensional feature vector, and a label y indicating its class. These two can be represented as FloatTensors:\n",
        "```python\n",
        "x = torch.tensor([2,1],[5,6],[3,7],[12,0])\n",
        "y = torch.tensor([0,1,0,1])\n",
        "```\n",
        "The graph connectivity (edge index) should be confined with the COO format, i.e. the first list contains the index of the source nodes, while the index of target nodes is specified in the second list.<br>\n",
        "```python\n",
        "edge_index = torch.tensor([[0,1,2,0,3],\n",
        "              [1,0,1,3,2]],dtype=torch.long)\n",
        "```"
      ]
    },
    {
      "cell_type": "code",
      "metadata": {
        "id": "1orrbcTBpmYL",
        "colab_type": "code",
        "colab": {}
      },
      "source": [
        "import torch\n",
        "from torch_geometric.data import Data\n",
        "\n",
        "x = torch.tensor([[2,1],[5,6],[3,7],[12,0]],dtype=torch.float) #node feature, shapa=[node_num, node_feature_num]\n",
        "y = torch.tensor([0,1,0,1],dtype=torch.float)   #Target of node,shape=[node_num,*]or[1,*]\n",
        "\n",
        "edge_index = torch.tensor([[0.,1.,2.,3.,0.],\n",
        "              [1.,0.,1.,2.,3.]],dtype=torch.long)\n",
        "data = Data(x=x,y=y,edge_index=edge_index)"
      ],
      "execution_count": 20,
      "outputs": []
    },
    {
      "cell_type": "code",
      "metadata": {
        "id": "2QRZFGCQIBJH",
        "colab_type": "code",
        "colab": {
          "base_uri": "https://localhost:8080/",
          "height": 51
        },
        "outputId": "d7b8fcf6-d41f-40df-b782-abf6d4b7fc68"
      },
      "source": [
        "print(data['edge_index'])"
      ],
      "execution_count": 21,
      "outputs": [
        {
          "output_type": "stream",
          "text": [
            "tensor([[0, 1, 2, 3, 0],\n",
            "        [1, 0, 1, 2, 3]])\n"
          ],
          "name": "stdout"
        }
      ]
    },
    {
      "cell_type": "markdown",
      "metadata": {
        "id": "uF7bDf-xKRN3",
        "colab_type": "text"
      },
      "source": [
        "## 数据加载Data与DataLoader"
      ]
    },
    {
      "cell_type": "markdown",
      "metadata": {
        "id": "P2PxYVdTKfde",
        "colab_type": "text"
      },
      "source": [
        "### 1、PyG 的 Dataset继承自torch.utils.data.Dataset，自带了很多图数据集，我们以TUDataset为例，通过以下代码就可以加载数据集，root参数设置数据下载的位置。通过索引可以访问每一个数据。"
      ]
    },
    {
      "cell_type": "code",
      "metadata": {
        "id": "XRHnvtoZKe5x",
        "colab_type": "code",
        "colab": {
          "base_uri": "https://localhost:8080/",
          "height": 85
        },
        "outputId": "1c214809-6b79-461d-f425-a75bb3c0717f"
      },
      "source": [
        "from torch_geometric.datasets import TUDataset   #加载pyG库自带数据\n",
        "datasets = TUDataset(root='/tmp/ENZYMES', name='ENZYMES')"
      ],
      "execution_count": 22,
      "outputs": [
        {
          "output_type": "stream",
          "text": [
            "Downloading https://www.chrsmrrs.com/graphkerneldatasets/ENZYMES.zip\n",
            "Extracting /tmp/ENZYMES/ENZYMES/ENZYMES.zip\n",
            "Processing...\n",
            "Done!\n"
          ],
          "name": "stdout"
        }
      ]
    },
    {
      "cell_type": "code",
      "metadata": {
        "id": "VJgvH7rPL79E",
        "colab_type": "code",
        "colab": {
          "base_uri": "https://localhost:8080/",
          "height": 34
        },
        "outputId": "32549da5-f723-4a04-f652-351de5896ad1"
      },
      "source": [
        "data = datasets[0]\n",
        "data"
      ],
      "execution_count": 28,
      "outputs": [
        {
          "output_type": "execute_result",
          "data": {
            "text/plain": [
              "Data(edge_index=[2, 168], x=[37, 3], y=[1])"
            ]
          },
          "metadata": {
            "tags": []
          },
          "execution_count": 28
        }
      ]
    },
    {
      "cell_type": "code",
      "metadata": {
        "id": "JE24kz5OOoKo",
        "colab_type": "code",
        "colab": {
          "base_uri": "https://localhost:8080/",
          "height": 34
        },
        "outputId": "50390916-1353-48c9-a79a-b60c85207672"
      },
      "source": [
        "data.is_undirected()"
      ],
      "execution_count": 29,
      "outputs": [
        {
          "output_type": "execute_result",
          "data": {
            "text/plain": [
              "True"
            ]
          },
          "metadata": {
            "tags": []
          },
          "execution_count": 29
        }
      ]
    },
    {
      "cell_type": "markdown",
      "metadata": {
        "id": "cIP6GlukM-2c",
        "colab_type": "text"
      },
      "source": [
        "`Data(edge_index=[2, 168], x=[37, 3], y=[1])`<br>由Data的内容可以看出，`data[0]`为一个由37个node，每个结点含有3个特征值，168/2=84条edge的无向图,存在分类"
      ]
    },
    {
      "cell_type": "code",
      "metadata": {
        "id": "7LIc4z_SM0sX",
        "colab_type": "code",
        "colab": {}
      },
      "source": [
        "train_datasets = datasets[:540]\n",
        "test_datasets = datasets[540:]   #切分数据集，训练集：测试集=9：1"
      ],
      "execution_count": 30,
      "outputs": []
    },
    {
      "cell_type": "code",
      "metadata": {
        "id": "-jlf1uKqP1iu",
        "colab_type": "code",
        "colab": {
          "base_uri": "https://localhost:8080/",
          "height": 51
        },
        "outputId": "a89c5c5f-c5e5-4b24-cda4-ff450a4620c2"
      },
      "source": [
        "print(len(train_datasets))\n",
        "print(len(test_datasets))"
      ],
      "execution_count": 32,
      "outputs": [
        {
          "output_type": "stream",
          "text": [
            "540\n",
            "60\n"
          ],
          "name": "stdout"
        }
      ]
    },
    {
      "cell_type": "markdown",
      "metadata": {
        "id": "KTs8CNOgQXsE",
        "colab_type": "text"
      },
      "source": [
        "如果在切分数据集之前不确定数据是否打乱，则使用`shuffle()`函数进行随机排列"
      ]
    },
    {
      "cell_type": "code",
      "metadata": {
        "id": "J8e4E5WeQFt2",
        "colab_type": "code",
        "colab": {
          "base_uri": "https://localhost:8080/",
          "height": 34
        },
        "outputId": "40e50fa7-4a91-4029-f146-f1c9bcd33c71"
      },
      "source": [
        "datasets = datasets.shuffle()   #使用shuffle()函数对数据集进行随机排序\n",
        "print(len(datasets))"
      ],
      "execution_count": 33,
      "outputs": [
        {
          "output_type": "stream",
          "text": [
            "600\n"
          ],
          "name": "stdout"
        }
      ]
    },
    {
      "cell_type": "code",
      "metadata": {
        "id": "HW1upZocRQlC",
        "colab_type": "code",
        "colab": {
          "base_uri": "https://localhost:8080/",
          "height": 34
        },
        "outputId": "65b72e6e-ceb2-4b2f-8feb-9b9d29fddd32"
      },
      "source": [
        "#上述方法与该方法等价\n",
        "perm = torch.randperm(len(datasets))    #使用randperm()函数对datasets序号进行随机排序\n",
        "datasets = datasets[perm]\n",
        "print(len(datasets))"
      ],
      "execution_count": 35,
      "outputs": [
        {
          "output_type": "stream",
          "text": [
            "600\n"
          ],
          "name": "stdout"
        }
      ]
    },
    {
      "cell_type": "markdown",
      "metadata": {
        "id": "TwX8DyDpSQ8A",
        "colab_type": "text"
      },
      "source": [
        "### 2、重新下载一个数据库`Cora`，该数据是用于半监督图节点分类的基准数据集"
      ]
    },
    {
      "cell_type": "code",
      "metadata": {
        "id": "I_mMcHFeTCg7",
        "colab_type": "code",
        "colab": {
          "base_uri": "https://localhost:8080/",
          "height": 187
        },
        "outputId": "8f02dd9c-c2f0-4c0e-9474-372f36c58d54"
      },
      "source": [
        "from torch_geometric.datasets import Planetoid\n",
        "dataset = Planetoid(root='/tmp/Cora',name='Cora')"
      ],
      "execution_count": 36,
      "outputs": [
        {
          "output_type": "stream",
          "text": [
            "Downloading https://github.com/kimiyoung/planetoid/raw/master/data/ind.cora.x\n",
            "Downloading https://github.com/kimiyoung/planetoid/raw/master/data/ind.cora.tx\n",
            "Downloading https://github.com/kimiyoung/planetoid/raw/master/data/ind.cora.allx\n",
            "Downloading https://github.com/kimiyoung/planetoid/raw/master/data/ind.cora.y\n",
            "Downloading https://github.com/kimiyoung/planetoid/raw/master/data/ind.cora.ty\n",
            "Downloading https://github.com/kimiyoung/planetoid/raw/master/data/ind.cora.ally\n",
            "Downloading https://github.com/kimiyoung/planetoid/raw/master/data/ind.cora.graph\n",
            "Downloading https://github.com/kimiyoung/planetoid/raw/master/data/ind.cora.test.index\n",
            "Processing...\n",
            "Done!\n"
          ],
          "name": "stdout"
        }
      ]
    },
    {
      "cell_type": "code",
      "metadata": {
        "id": "AfJL8vPdTgVJ",
        "colab_type": "code",
        "colab": {
          "base_uri": "https://localhost:8080/",
          "height": 34
        },
        "outputId": "47ab4164-2ba7-460b-bd54-d9d437fa8a6b"
      },
      "source": [
        "data = dataset[0]\n",
        "data"
      ],
      "execution_count": 40,
      "outputs": [
        {
          "output_type": "execute_result",
          "data": {
            "text/plain": [
              "Data(edge_index=[2, 10556], test_mask=[2708], train_mask=[2708], val_mask=[2708], x=[2708, 1433], y=[2708])"
            ]
          },
          "metadata": {
            "tags": []
          },
          "execution_count": 40
        }
      ]
    },
    {
      "cell_type": "code",
      "metadata": {
        "id": "mw04N5GnUaOw",
        "colab_type": "code",
        "colab": {
          "base_uri": "https://localhost:8080/",
          "height": 34
        },
        "outputId": "e218ae25-4ec2-4e62-bdb9-a4afa1099026"
      },
      "source": [
        "data.is_undirected()"
      ],
      "execution_count": 42,
      "outputs": [
        {
          "output_type": "execute_result",
          "data": {
            "text/plain": [
              "True"
            ]
          },
          "metadata": {
            "tags": []
          },
          "execution_count": 42
        }
      ]
    },
    {
      "cell_type": "markdown",
      "metadata": {
        "id": "CEa-A_NbUHrg",
        "colab_type": "text"
      },
      "source": [
        "`Data(edge_index=[2, 10556], test_mask=[2708], train_mask=[2708], val_mask=[2708], x=[2708, 1433], y=[2708])`\n",
        "<br>其中增加了`test_mask`、`train_mask`、`val_mask`三个参数，其分别代表：\n",
        "- `train_mask`代表需要进行训练的结点\n",
        "- `test_mask`代表需要进行测试的结点\n",
        "- `val_mask`代表那些结点需要进行验证"
      ]
    },
    {
      "cell_type": "markdown",
      "metadata": {
        "id": "-Dj-0WQRExWx",
        "colab_type": "text"
      },
      "source": [
        "### 3、使用DataLoader对数据进行加载"
      ]
    },
    {
      "cell_type": "code",
      "metadata": {
        "id": "gIm6yrN8TmBK",
        "colab_type": "code",
        "colab": {
          "base_uri": "https://localhost:8080/",
          "height": 340
        },
        "outputId": "c944007e-4749-45a4-ee75-a1429b2916dc"
      },
      "source": [
        "import torch\n",
        "from torch_geometric.datasets import TUDataset\n",
        "from torch_geometric.data import DataLoader\n",
        "\n",
        "dataset = TUDataset(root='/tmp/ENZYMES', name='ENZYMES', use_node_attr=True)\n",
        "loader = DataLoader(dataset, batch_size=32, shuffle=True)\n",
        "\n",
        "for batch in loader:    #min-batch\n",
        "  print(batch)\n"
      ],
      "execution_count": 46,
      "outputs": [
        {
          "output_type": "stream",
          "text": [
            "Batch(batch=[1046], edge_index=[2, 4036], x=[1046, 21], y=[32])\n",
            "Batch(batch=[980], edge_index=[2, 3814], x=[980, 21], y=[32])\n",
            "Batch(batch=[1005], edge_index=[2, 3904], x=[1005, 21], y=[32])\n",
            "Batch(batch=[975], edge_index=[2, 3880], x=[975, 21], y=[32])\n",
            "Batch(batch=[1096], edge_index=[2, 3884], x=[1096, 21], y=[32])\n",
            "Batch(batch=[967], edge_index=[2, 3604], x=[967, 21], y=[32])\n",
            "Batch(batch=[997], edge_index=[2, 3848], x=[997, 21], y=[32])\n",
            "Batch(batch=[1085], edge_index=[2, 4194], x=[1085, 21], y=[32])\n",
            "Batch(batch=[1000], edge_index=[2, 3880], x=[1000, 21], y=[32])\n",
            "Batch(batch=[1011], edge_index=[2, 3880], x=[1011, 21], y=[32])\n",
            "Batch(batch=[1084], edge_index=[2, 4236], x=[1084, 21], y=[32])\n",
            "Batch(batch=[1043], edge_index=[2, 3878], x=[1043, 21], y=[32])\n",
            "Batch(batch=[1082], edge_index=[2, 4062], x=[1082, 21], y=[32])\n",
            "Batch(batch=[989], edge_index=[2, 3838], x=[989, 21], y=[32])\n",
            "Batch(batch=[1050], edge_index=[2, 3766], x=[1050, 21], y=[32])\n",
            "Batch(batch=[1126], edge_index=[2, 4230], x=[1126, 21], y=[32])\n",
            "Batch(batch=[1089], edge_index=[2, 4154], x=[1089, 21], y=[32])\n",
            "Batch(batch=[1171], edge_index=[2, 4410], x=[1171, 21], y=[32])\n",
            "Batch(batch=[784], edge_index=[2, 3066], x=[784, 21], y=[24])\n"
          ],
          "name": "stdout"
        }
      ]
    },
    {
      "cell_type": "markdown",
      "metadata": {
        "id": "BVpvkL2UIjnP",
        "colab_type": "text"
      },
      "source": [
        "## Transforms"
      ]
    },
    {
      "cell_type": "markdown",
      "metadata": {
        "id": "AeLYIH64I2_c",
        "colab_type": "text"
      },
      "source": [
        "`transforms`在计算机视觉领域是一种很常见的数据增强。PyG有自己的`transforms`，输入是`Data`类型，输出也是`Data`类型。可以使用`torch_geometric.transforms.Compose`封装一系列的`transforms`。我们以`ShapeNet`数据集 (包含 17000 个 point clouds，每个 point 分类为 16 个类别的其中一个) 为例，我们可以使用transforms从 point clouds 生成最近邻图："
      ]
    },
    {
      "cell_type": "code",
      "metadata": {
        "id": "UsjZXgg2I1Vj",
        "colab_type": "code",
        "colab": {}
      },
      "source": [
        "import torch_geometric.transforms as T\n",
        "from torch_geometric.datasets import ShapeNet\n",
        "\n",
        "dataset = ShapeNet(root='/tmp/ShapeNet', categories=['Airplane'], pre_transform=T.KNNGraph(k=6))\n",
        "print(dataset[0])"
      ],
      "execution_count": null,
      "outputs": []
    },
    {
      "cell_type": "code",
      "metadata": {
        "id": "cPj040VmHJtt",
        "colab_type": "code",
        "colab": {}
      },
      "source": [
        "dataset = ShapeNet(root='/tmp/ShapeNet', \n",
        "                   categories=['Airplane'], \n",
        "                   pre_transform=T.KNNGraph(k=6), \n",
        "                   transform=T.RandomTranslate(0.01))   #数据增强，添加坐标上的扰动\n",
        "print(dataset[0])"
      ],
      "execution_count": null,
      "outputs": []
    },
    {
      "cell_type": "code",
      "metadata": {
        "id": "9vxv1G0aNuka",
        "colab_type": "code",
        "colab": {}
      },
      "source": [
        ""
      ],
      "execution_count": null,
      "outputs": []
    }
  ]
}