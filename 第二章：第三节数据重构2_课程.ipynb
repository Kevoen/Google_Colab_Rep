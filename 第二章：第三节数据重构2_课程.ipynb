{
  "nbformat": 4,
  "nbformat_minor": 0,
  "metadata": {
    "kernelspec": {
      "display_name": "Python 3",
      "language": "python",
      "name": "python3"
    },
    "language_info": {
      "codemirror_mode": {
        "name": "ipython",
        "version": 3
      },
      "file_extension": ".py",
      "mimetype": "text/x-python",
      "name": "python",
      "nbconvert_exporter": "python",
      "pygments_lexer": "ipython3",
      "version": "3.7.3"
    },
    "toc": {
      "base_numbering": 1,
      "nav_menu": {},
      "number_sections": false,
      "sideBar": true,
      "skip_h1_title": false,
      "title_cell": "Table of Contents",
      "title_sidebar": "Contents",
      "toc_cell": false,
      "toc_position": {
        "height": "calc(100% - 180px)",
        "left": "10px",
        "top": "150px",
        "width": "582px"
      },
      "toc_section_display": true,
      "toc_window_display": true
    },
    "colab": {
      "name": "第二章：第三节数据重构2-课程.ipynb",
      "provenance": [],
      "include_colab_link": true
    }
  },
  "cells": [
    {
      "cell_type": "markdown",
      "metadata": {
        "id": "view-in-github",
        "colab_type": "text"
      },
      "source": [
        "<a href=\"https://colab.research.google.com/github/Kevoen/Google_Colab_Rep/blob/master/%E7%AC%AC%E4%BA%8C%E7%AB%A0%EF%BC%9A%E7%AC%AC%E4%B8%89%E8%8A%82%E6%95%B0%E6%8D%AE%E9%87%8D%E6%9E%842_%E8%AF%BE%E7%A8%8B.ipynb\" target=\"_parent\"><img src=\"https://colab.research.google.com/assets/colab-badge.svg\" alt=\"Open In Colab\"/></a>"
      ]
    },
    {
      "cell_type": "code",
      "metadata": {
        "id": "IL9HpcVhFcjq",
        "colab_type": "code",
        "colab": {
          "base_uri": "https://localhost:8080/",
          "height": 122
        },
        "outputId": "8d110d6a-9060-4a11-d95d-89820b3d2824"
      },
      "source": [
        "from google.colab import drive\n",
        "drive.mount('/content/drive')"
      ],
      "execution_count": 1,
      "outputs": [
        {
          "output_type": "stream",
          "text": [
            "Go to this URL in a browser: https://accounts.google.com/o/oauth2/auth?client_id=947318989803-6bn6qk8qdgf4n4g3pfee6491hc0brc4i.apps.googleusercontent.com&redirect_uri=urn%3aietf%3awg%3aoauth%3a2.0%3aoob&scope=email%20https%3a%2f%2fwww.googleapis.com%2fauth%2fdocs.test%20https%3a%2f%2fwww.googleapis.com%2fauth%2fdrive%20https%3a%2f%2fwww.googleapis.com%2fauth%2fdrive.photos.readonly%20https%3a%2f%2fwww.googleapis.com%2fauth%2fpeopleapi.readonly&response_type=code\n",
            "\n",
            "Enter your authorization code:\n",
            "··········\n",
            "Mounted at /content/drive\n"
          ],
          "name": "stdout"
        }
      ]
    },
    {
      "cell_type": "code",
      "metadata": {
        "id": "LWOwv2JdFmG3",
        "colab_type": "code",
        "colab": {}
      },
      "source": [
        "!ln -s /content/drive/My\\ Drive /mydrive"
      ],
      "execution_count": 2,
      "outputs": []
    },
    {
      "cell_type": "code",
      "metadata": {
        "id": "jWjw6rnLFw8-",
        "colab_type": "code",
        "colab": {
          "base_uri": "https://localhost:8080/",
          "height": 34
        },
        "outputId": "fa5c37ea-64fe-45fb-bb26-72a6a2e827ca"
      },
      "source": [
        "%cd /mydrive/Colab_Notebooks/DataWhela/Data Analysis/hands-on-data-analysis/第二章项目集合"
      ],
      "execution_count": 3,
      "outputs": [
        {
          "output_type": "stream",
          "text": [
            "/content/drive/My Drive/Colab_Notebooks/DataWhela/Data Analysis/hands-on-data-analysis/第二章项目集合\n"
          ],
          "name": "stdout"
        }
      ]
    },
    {
      "cell_type": "markdown",
      "metadata": {
        "id": "KLGUsk_4FKeU",
        "colab_type": "text"
      },
      "source": [
        "**复习：**在前面我们已经学习了Pandas基础，第二章我们开始进入数据分析的业务部分，在第二章第一节的内容中，我们学习了**数据的清洗**，这一部分十分重要，只有数据变得相对干净，我们之后对数据的分析才可以更有力。而这一节，我们要做的是数据重构，数据重构依旧属于数据理解（准备）的范围。"
      ]
    },
    {
      "cell_type": "markdown",
      "metadata": {
        "id": "efVG9-LBFKeV",
        "colab_type": "text"
      },
      "source": [
        "#### 开始之前，导入numpy、pandas包和数据"
      ]
    },
    {
      "cell_type": "code",
      "metadata": {
        "id": "wi1GqYJxFKeW",
        "colab_type": "code",
        "colab": {}
      },
      "source": [
        "# 导入基本库\n",
        "import numpy as np\n",
        "import pandas as pd"
      ],
      "execution_count": 4,
      "outputs": []
    },
    {
      "cell_type": "code",
      "metadata": {
        "id": "ZWQqDavzFKea",
        "colab_type": "code",
        "colab": {
          "base_uri": "https://localhost:8080/",
          "height": 204
        },
        "outputId": "d3432318-1cb4-46f1-daac-38d1519fa517"
      },
      "source": [
        "# 载入上一个任务人保存的文件中:result.csv，并查看这个文件\n",
        "text = pd.read_csv('result.csv')\n",
        "text.head()"
      ],
      "execution_count": 5,
      "outputs": [
        {
          "output_type": "execute_result",
          "data": {
            "text/html": [
              "<div>\n",
              "<style scoped>\n",
              "    .dataframe tbody tr th:only-of-type {\n",
              "        vertical-align: middle;\n",
              "    }\n",
              "\n",
              "    .dataframe tbody tr th {\n",
              "        vertical-align: top;\n",
              "    }\n",
              "\n",
              "    .dataframe thead th {\n",
              "        text-align: right;\n",
              "    }\n",
              "</style>\n",
              "<table border=\"1\" class=\"dataframe\">\n",
              "  <thead>\n",
              "    <tr style=\"text-align: right;\">\n",
              "      <th></th>\n",
              "      <th>Unnamed: 0</th>\n",
              "      <th>PassengerId</th>\n",
              "      <th>Survived</th>\n",
              "      <th>Pclass</th>\n",
              "      <th>Name</th>\n",
              "      <th>Sex</th>\n",
              "      <th>Age</th>\n",
              "      <th>SibSp</th>\n",
              "      <th>Parch</th>\n",
              "      <th>Ticket</th>\n",
              "      <th>Fare</th>\n",
              "      <th>Cabin</th>\n",
              "      <th>Embarked</th>\n",
              "    </tr>\n",
              "  </thead>\n",
              "  <tbody>\n",
              "    <tr>\n",
              "      <th>0</th>\n",
              "      <td>0</td>\n",
              "      <td>1</td>\n",
              "      <td>0</td>\n",
              "      <td>3</td>\n",
              "      <td>Braund, Mr. Owen Harris</td>\n",
              "      <td>male</td>\n",
              "      <td>22.0</td>\n",
              "      <td>1.0</td>\n",
              "      <td>0.0</td>\n",
              "      <td>A/5 21171</td>\n",
              "      <td>7.2500</td>\n",
              "      <td>NaN</td>\n",
              "      <td>S</td>\n",
              "    </tr>\n",
              "    <tr>\n",
              "      <th>1</th>\n",
              "      <td>1</td>\n",
              "      <td>2</td>\n",
              "      <td>1</td>\n",
              "      <td>1</td>\n",
              "      <td>Cumings, Mrs. John Bradley (Florence Briggs Th...</td>\n",
              "      <td>female</td>\n",
              "      <td>38.0</td>\n",
              "      <td>1.0</td>\n",
              "      <td>0.0</td>\n",
              "      <td>PC 17599</td>\n",
              "      <td>71.2833</td>\n",
              "      <td>C85</td>\n",
              "      <td>C</td>\n",
              "    </tr>\n",
              "    <tr>\n",
              "      <th>2</th>\n",
              "      <td>2</td>\n",
              "      <td>3</td>\n",
              "      <td>1</td>\n",
              "      <td>3</td>\n",
              "      <td>Heikkinen, Miss. Laina</td>\n",
              "      <td>female</td>\n",
              "      <td>26.0</td>\n",
              "      <td>0.0</td>\n",
              "      <td>0.0</td>\n",
              "      <td>STON/O2. 3101282</td>\n",
              "      <td>7.9250</td>\n",
              "      <td>NaN</td>\n",
              "      <td>S</td>\n",
              "    </tr>\n",
              "    <tr>\n",
              "      <th>3</th>\n",
              "      <td>3</td>\n",
              "      <td>4</td>\n",
              "      <td>1</td>\n",
              "      <td>1</td>\n",
              "      <td>Futrelle, Mrs. Jacques Heath (Lily May Peel)</td>\n",
              "      <td>female</td>\n",
              "      <td>35.0</td>\n",
              "      <td>1.0</td>\n",
              "      <td>0.0</td>\n",
              "      <td>113803</td>\n",
              "      <td>53.1000</td>\n",
              "      <td>C123</td>\n",
              "      <td>S</td>\n",
              "    </tr>\n",
              "    <tr>\n",
              "      <th>4</th>\n",
              "      <td>4</td>\n",
              "      <td>5</td>\n",
              "      <td>0</td>\n",
              "      <td>3</td>\n",
              "      <td>Allen, Mr. William Henry</td>\n",
              "      <td>male</td>\n",
              "      <td>35.0</td>\n",
              "      <td>0.0</td>\n",
              "      <td>0.0</td>\n",
              "      <td>373450</td>\n",
              "      <td>8.0500</td>\n",
              "      <td>NaN</td>\n",
              "      <td>S</td>\n",
              "    </tr>\n",
              "  </tbody>\n",
              "</table>\n",
              "</div>"
            ],
            "text/plain": [
              "   Unnamed: 0  PassengerId  Survived  ...     Fare Cabin Embarked\n",
              "0           0            1         0  ...   7.2500   NaN        S\n",
              "1           1            2         1  ...  71.2833   C85        C\n",
              "2           2            3         1  ...   7.9250   NaN        S\n",
              "3           3            4         1  ...  53.1000  C123        S\n",
              "4           4            5         0  ...   8.0500   NaN        S\n",
              "\n",
              "[5 rows x 13 columns]"
            ]
          },
          "metadata": {
            "tags": []
          },
          "execution_count": 5
        }
      ]
    },
    {
      "cell_type": "markdown",
      "metadata": {
        "id": "uJGsXOfsFKed",
        "colab_type": "text"
      },
      "source": [
        "# 2 第二章：数据重构\n"
      ]
    },
    {
      "cell_type": "markdown",
      "metadata": {
        "id": "zJterE-aFKee",
        "colab_type": "text"
      },
      "source": [
        "## 第一部分：数据聚合与运算"
      ]
    },
    {
      "cell_type": "markdown",
      "metadata": {
        "id": "aPSD_UjwFKef",
        "colab_type": "text"
      },
      "source": [
        "### 2.6 数据运用"
      ]
    },
    {
      "cell_type": "markdown",
      "metadata": {
        "id": "CeG3QshQFKef",
        "colab_type": "text"
      },
      "source": [
        "#### 2.6.1 任务一：通过教材《Python for Data Analysis》P303、Google or anything来学习了解GroupBy机制"
      ]
    },
    {
      "cell_type": "code",
      "metadata": {
        "id": "bU3OF1vgFKeg",
        "colab_type": "code",
        "colab": {}
      },
      "source": [
        "#写入心得\n",
        "# 该机制与SQL里面的group语法机制相同"
      ],
      "execution_count": null,
      "outputs": []
    },
    {
      "cell_type": "markdown",
      "metadata": {
        "id": "q4kOAMwrFKem",
        "colab_type": "text"
      },
      "source": [
        "#### 2.4.2：任务二：计算泰坦尼克号男性与女性的平均票价"
      ]
    },
    {
      "cell_type": "code",
      "metadata": {
        "id": "RJgdHGhZFKen",
        "colab_type": "code",
        "colab": {
          "base_uri": "https://localhost:8080/",
          "height": 85
        },
        "outputId": "c176a706-b5ba-4c44-bdc8-2a1bd74900a6"
      },
      "source": [
        "# 写入代码\n",
        "df = text['Fare'].groupby(text['Sex'])\n",
        "mean = df.mean()\n",
        "mean"
      ],
      "execution_count": 6,
      "outputs": [
        {
          "output_type": "execute_result",
          "data": {
            "text/plain": [
              "Sex\n",
              "female    44.479818\n",
              "male      25.523893\n",
              "Name: Fare, dtype: float64"
            ]
          },
          "metadata": {
            "tags": []
          },
          "execution_count": 6
        }
      ]
    },
    {
      "cell_type": "code",
      "metadata": {
        "id": "cHRF-PzIHmhY",
        "colab_type": "code",
        "colab": {
          "base_uri": "https://localhost:8080/",
          "height": 85
        },
        "outputId": "e9a17396-1c55-43e9-c7af-c6f5789244c9"
      },
      "source": [
        "mean_sex = text.groupby('Sex')['Fare'].mean()\n",
        "mean"
      ],
      "execution_count": 18,
      "outputs": [
        {
          "output_type": "execute_result",
          "data": {
            "text/plain": [
              "Sex\n",
              "female    44.479818\n",
              "male      25.523893\n",
              "Name: Fare, dtype: float64"
            ]
          },
          "metadata": {
            "tags": []
          },
          "execution_count": 18
        }
      ]
    },
    {
      "cell_type": "markdown",
      "metadata": {
        "id": "_2xaIpA4FKeq",
        "colab_type": "text"
      },
      "source": [
        "在了解GroupBy机制之后，运用这个机制完成一系列的操作，来达到我们的目的。\n",
        "\n",
        "下面通过几个任务来熟悉GroupBy机制。"
      ]
    },
    {
      "cell_type": "markdown",
      "metadata": {
        "id": "dvHB3evbFKer",
        "colab_type": "text"
      },
      "source": [
        "#### 2.4.3：任务三：统计泰坦尼克号中男女的存活人数"
      ]
    },
    {
      "cell_type": "code",
      "metadata": {
        "id": "_qJXb9SdFKer",
        "colab_type": "code",
        "colab": {
          "base_uri": "https://localhost:8080/",
          "height": 102
        },
        "outputId": "c7729ebb-d4bb-4a05-cc98-b90677b193d5"
      },
      "source": [
        "# 写入代码\n",
        "sunum_sex = text.groupby('Sex')['Survived'].sum()\n",
        "sunum"
      ],
      "execution_count": 19,
      "outputs": [
        {
          "output_type": "execute_result",
          "data": {
            "text/plain": [
              "Pclass\n",
              "1    136\n",
              "2     87\n",
              "3    119\n",
              "Name: Survived, dtype: int64"
            ]
          },
          "metadata": {
            "tags": []
          },
          "execution_count": 19
        }
      ]
    },
    {
      "cell_type": "markdown",
      "metadata": {
        "id": "QMNVVJqfFKev",
        "colab_type": "text"
      },
      "source": [
        "#### 2.4.4：任务四：计算客舱不同等级的存活人数"
      ]
    },
    {
      "cell_type": "code",
      "metadata": {
        "id": "uqneiYkjFKew",
        "colab_type": "code",
        "colab": {
          "base_uri": "https://localhost:8080/",
          "height": 102
        },
        "outputId": "f364eac3-809f-41a7-f90b-79ce5350a715"
      },
      "source": [
        "# 写入代码\n",
        "sunum = text.groupby('Pclass')['Survived'].sum()\n",
        "sunum.head()"
      ],
      "execution_count": 12,
      "outputs": [
        {
          "output_type": "execute_result",
          "data": {
            "text/plain": [
              "Pclass\n",
              "1    136\n",
              "2     87\n",
              "3    119\n",
              "Name: Survived, dtype: int64"
            ]
          },
          "metadata": {
            "tags": []
          },
          "execution_count": 12
        }
      ]
    },
    {
      "cell_type": "markdown",
      "metadata": {
        "id": "pASjGezxFKez",
        "colab_type": "text"
      },
      "source": [
        "【**提示：**】表中的存活那一栏，可以发现如果还活着记为1，死亡记为0"
      ]
    },
    {
      "cell_type": "markdown",
      "metadata": {
        "id": "f9M9AFC_FKe0",
        "colab_type": "text"
      },
      "source": [
        "【**思考**】从数据分析的角度，上面的统计结果可以得出那些结论"
      ]
    },
    {
      "cell_type": "code",
      "metadata": {
        "id": "_9_aWA9NFKe1",
        "colab_type": "code",
        "colab": {}
      },
      "source": [
        "#思考心得 \n",
        "可以看出存活的女性要比男性多，并且女性的票价要高，以及一级客舱存活的人数要最多"
      ],
      "execution_count": null,
      "outputs": []
    },
    {
      "cell_type": "markdown",
      "metadata": {
        "id": "IRfEQ7T7FKe9",
        "colab_type": "text"
      },
      "source": [
        "【思考】从任务二到任务四中，这些运算可以通过agg()函数来同时计算。并且可以使用rename函数修改列名。你可以按照提示写出这个过程吗？"
      ]
    },
    {
      "cell_type": "code",
      "metadata": {
        "id": "3CXYxiSUFKe-",
        "colab_type": "code",
        "colab": {}
      },
      "source": [
        "#思考心得\n",
        "\n",
        "text.groupby('Survived').agg({'Sex': 'mean', 'Pclass': 'count'}).rename(columns={'Sex': 'mean_sex', 'Pclass': 'count_pclass'})"
      ],
      "execution_count": null,
      "outputs": []
    },
    {
      "cell_type": "markdown",
      "metadata": {
        "id": "Sbxq70IeFKfB",
        "colab_type": "text"
      },
      "source": [
        "#### 2.4.5：任务五：统计在不同等级的票中的不同年龄的船票花费的平均值"
      ]
    },
    {
      "cell_type": "code",
      "metadata": {
        "id": "mFPgT37eFKfB",
        "colab_type": "code",
        "colab": {
          "base_uri": "https://localhost:8080/",
          "height": 136
        },
        "outputId": "1914445e-b455-4b91-f498-9fcaaed7efb8"
      },
      "source": [
        "# 写入代码\n",
        "text.groupby(['Pclass','Age'])['Fare'].mean().head()"
      ],
      "execution_count": 15,
      "outputs": [
        {
          "output_type": "execute_result",
          "data": {
            "text/plain": [
              "Pclass  Age  \n",
              "1       0.92     151.5500\n",
              "        2.00     151.5500\n",
              "        4.00      81.8583\n",
              "        11.00    120.0000\n",
              "        14.00    120.0000\n",
              "Name: Fare, dtype: float64"
            ]
          },
          "metadata": {
            "tags": []
          },
          "execution_count": 15
        }
      ]
    },
    {
      "cell_type": "markdown",
      "metadata": {
        "id": "mYBACkZkFKfI",
        "colab_type": "text"
      },
      "source": [
        "#### 2.4.6：任务六：将任务二和任务三的数据合并，并保存到sex_fare_survived.csv"
      ]
    },
    {
      "cell_type": "code",
      "metadata": {
        "id": "Y7QAYD26FKfK",
        "colab_type": "code",
        "colab": {
          "base_uri": "https://localhost:8080/",
          "height": 142
        },
        "outputId": "cc9b3153-648a-4c17-f1ad-f04eb411ad03"
      },
      "source": [
        "# 写入代码\n",
        "result = pd.merge(mean_sex,sunum_sex,on='Sex')\n",
        "result"
      ],
      "execution_count": 20,
      "outputs": [
        {
          "output_type": "execute_result",
          "data": {
            "text/html": [
              "<div>\n",
              "<style scoped>\n",
              "    .dataframe tbody tr th:only-of-type {\n",
              "        vertical-align: middle;\n",
              "    }\n",
              "\n",
              "    .dataframe tbody tr th {\n",
              "        vertical-align: top;\n",
              "    }\n",
              "\n",
              "    .dataframe thead th {\n",
              "        text-align: right;\n",
              "    }\n",
              "</style>\n",
              "<table border=\"1\" class=\"dataframe\">\n",
              "  <thead>\n",
              "    <tr style=\"text-align: right;\">\n",
              "      <th></th>\n",
              "      <th>Fare</th>\n",
              "      <th>Survived</th>\n",
              "    </tr>\n",
              "    <tr>\n",
              "      <th>Sex</th>\n",
              "      <th></th>\n",
              "      <th></th>\n",
              "    </tr>\n",
              "  </thead>\n",
              "  <tbody>\n",
              "    <tr>\n",
              "      <th>female</th>\n",
              "      <td>44.479818</td>\n",
              "      <td>233</td>\n",
              "    </tr>\n",
              "    <tr>\n",
              "      <th>male</th>\n",
              "      <td>25.523893</td>\n",
              "      <td>109</td>\n",
              "    </tr>\n",
              "  </tbody>\n",
              "</table>\n",
              "</div>"
            ],
            "text/plain": [
              "             Fare  Survived\n",
              "Sex                        \n",
              "female  44.479818       233\n",
              "male    25.523893       109"
            ]
          },
          "metadata": {
            "tags": []
          },
          "execution_count": 20
        }
      ]
    },
    {
      "cell_type": "code",
      "metadata": {
        "id": "JMmapV54LL4O",
        "colab_type": "code",
        "colab": {}
      },
      "source": [
        "result.to_csv('sex_fare_survived.csv')"
      ],
      "execution_count": 21,
      "outputs": []
    },
    {
      "cell_type": "markdown",
      "metadata": {
        "id": "h9fqZS3aFKfO",
        "colab_type": "text"
      },
      "source": [
        "#### 2.4.7：任务七：得出不同年龄的总的存活人数，然后找出存活人数的最高的年龄，最后计算存活人数最高的存活率（存活人数/总人数）\n"
      ]
    },
    {
      "cell_type": "code",
      "metadata": {
        "id": "LeC1vRh8FKfP",
        "colab_type": "code",
        "colab": {
          "base_uri": "https://localhost:8080/",
          "height": 136
        },
        "outputId": "3c8d519f-40c0-4c26-ee1c-cb45d128660d"
      },
      "source": [
        "# 写入代码\n",
        "#不同年龄的存活人数\n",
        "survived_age = text['Survived'].groupby(text['Age']).sum()\n",
        "survived_age.head()"
      ],
      "execution_count": 22,
      "outputs": [
        {
          "output_type": "execute_result",
          "data": {
            "text/plain": [
              "Age\n",
              "0.42    1\n",
              "0.67    1\n",
              "0.75    2\n",
              "0.83    2\n",
              "0.92    1\n",
              "Name: Survived, dtype: int64"
            ]
          },
          "metadata": {
            "tags": []
          },
          "execution_count": 22
        }
      ]
    },
    {
      "cell_type": "code",
      "metadata": {
        "id": "6ej7zY_iFKfS",
        "colab_type": "code",
        "colab": {
          "base_uri": "https://localhost:8080/",
          "height": 68
        },
        "outputId": "dff51a83-4744-488b-e68e-bb5a42492a4c"
      },
      "source": [
        "# 写入代码\n",
        "#找出最大值的年龄段\n",
        "survived_age[survived_age.values==survived_age.max()]"
      ],
      "execution_count": 23,
      "outputs": [
        {
          "output_type": "execute_result",
          "data": {
            "text/plain": [
              "Age\n",
              "24.0    15\n",
              "Name: Survived, dtype: int64"
            ]
          },
          "metadata": {
            "tags": []
          },
          "execution_count": 23
        }
      ]
    },
    {
      "cell_type": "code",
      "metadata": {
        "id": "oonvq7shFKfY",
        "colab_type": "code",
        "colab": {
          "base_uri": "https://localhost:8080/",
          "height": 34
        },
        "outputId": "b5f5fc12-3c3a-4b69-c03b-0eee5777849e"
      },
      "source": [
        "# 写入代码\n",
        "_sum = text['Survived'].sum()\n",
        "print(_sum)"
      ],
      "execution_count": 24,
      "outputs": [
        {
          "output_type": "stream",
          "text": [
            "342\n"
          ],
          "name": "stdout"
        }
      ]
    },
    {
      "cell_type": "code",
      "metadata": {
        "id": "fdxzrOlJFKfb",
        "colab_type": "code",
        "colab": {
          "base_uri": "https://localhost:8080/",
          "height": 51
        },
        "outputId": "30d1a9ff-9cda-4626-973f-460ab2dafa86"
      },
      "source": [
        "# 写入代码\n",
        "#首先计算总人数\n",
        "_sum = text['Survived'].sum()\n",
        "\n",
        "print(\"sum of person:\"+str(_sum))\n",
        "\n",
        "precetn =survived_age.max()/_sum\n",
        "\n",
        "print(\"最大存活率：\"+str(precetn))"
      ],
      "execution_count": 25,
      "outputs": [
        {
          "output_type": "stream",
          "text": [
            "sum of person:342\n",
            "最大存活率：0.043859649122807015\n"
          ],
          "name": "stdout"
        }
      ]
    }
  ]
}